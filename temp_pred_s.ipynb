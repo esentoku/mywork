{
  "nbformat": 4,
  "nbformat_minor": 0,
  "metadata": {
    "colab": {
      "provenance": [],
      "gpuType": "T4",
      "name": "temp_pred_s.ipynb",
      "history_visible": true,
      "include_colab_link": true
    },
    "kernelspec": {
      "name": "python3",
      "display_name": "Python 3"
    },
    "language_info": {
      "name": "python"
    },
    "accelerator": "GPU"
  },
  "cells": [
    {
      "cell_type": "markdown",
      "metadata": {
        "id": "view-in-github",
        "colab_type": "text"
      },
      "source": [
        "<a href=\"https://colab.research.google.com/github/esentoku/mywork/blob/master/temp_pred_s.ipynb\" target=\"_parent\"><img src=\"https://colab.research.google.com/assets/colab-badge.svg\" alt=\"Open In Colab\"/></a>"
      ]
    },
    {
      "cell_type": "code",
      "execution_count": 64,
      "metadata": {
        "colab": {
          "base_uri": "https://localhost:8080/"
        },
        "id": "jMbpui06Xea7",
        "outputId": "edefc0e1-d9d7-4a96-8cc4-4befd15fa111"
      },
      "outputs": [
        {
          "output_type": "stream",
          "name": "stdout",
          "text": [
            "Drive already mounted at /content/drive; to attempt to forcibly remount, call drive.mount(\"/content/drive\", force_remount=True).\n"
          ]
        }
      ],
      "source": [
        "# google driveをマウント\n",
        "from google.colab import drive\n",
        "drive = drive.mount('/content/drive')"
      ]
    },
    {
      "cell_type": "code",
      "source": [
        "# 必要ライブラリをインポート\n",
        "import numpy as np\n",
        "import pandas as pd\n",
        "import os\n",
        "import glob\n",
        "import matplotlib.pyplot as plt\n",
        "from sklearn.model_selection import train_test_split\n",
        "\n",
        "import tensorflow as tf\n",
        "import tensorflow_datasets as tfds\n",
        "from tensorflow.keras import losses\n",
        "from tensorflow.keras import layers\n",
        "from tensorflow.keras import Input\n",
        "#from keras.utils import np_utils\n",
        "from tensorflow.keras.models import Model\n",
        "#from keras.layers.convolutional import MaxPooling2D\n",
        "import h5py\n",
        "\n",
        "from tensorflow.keras.layers import Dense, Input\n",
        "from tensorflow.keras import Sequential\n",
        "from tensorflow.keras.activations import sigmoid\n",
        "\n",
        "\n",
        "from tensorflow.keras.layers import Conv2D, MaxPooling2D\n",
        "\n",
        "from tensorflow.keras.layers import Activation, Conv2D, Flatten, Dense,Dropout\n",
        "from sklearn.model_selection import train_test_split\n",
        "from keras.optimizers import SGD, Adadelta, Adagrad, Adam, Adamax, RMSprop, Nadam\n",
        "from tensorflow.keras.models import load_model\n",
        "%matplotlib inline\n",
        "\n",
        "print(\"done\")"
      ],
      "metadata": {
        "colab": {
          "base_uri": "https://localhost:8080/"
        },
        "id": "ZSsP0bkXXivu",
        "outputId": "cb791c32-0dd5-4c62-d392-6e4434e5669c"
      },
      "execution_count": 65,
      "outputs": [
        {
          "output_type": "stream",
          "name": "stdout",
          "text": [
            "done\n"
          ]
        }
      ]
    },
    {
      "cell_type": "code",
      "source": [
        "# データの保存場所の指定\n",
        "maindir = '/content/drive/MyDrive/Colab_Notebooks/temperature'\n",
        "datadir = maindir + '/data'\n",
        "tempdir = datadir + '/temp_csv'\n",
        "preddir = datadir + '/prediction'\n",
        "\n",
        "l_temp = glob.glob(preddir + '/*.csv')\n",
        "print(l_temp)\n",
        "\n",
        "# path to excel\n",
        "excel_path = preddir + '/r4temperature_p.xlsx'\n",
        "r4temp = pd.read_excel(excel_path)\n",
        "\n",
        "#モデルを読み込み\n",
        "#model = load_model('maindir+/model/model.h5')\n",
        "\n",
        "model = load_model('/content/drive/MyDrive/Colab_Notebooks/temperature/model/model.h5', compile=False)\n",
        "\n",
        "#model = load_model('maindir +/model/model.hdf5')\n",
        "#from tensorflow import keras model = keras.models.load_model('/model/model.h5')\n",
        "#reconstructed_model = keras.models.load_model(\"/model/model.h5\")\n",
        "\n",
        "model.summary() #モデル情報を出力\n",
        "\n"
      ],
      "metadata": {
        "colab": {
          "base_uri": "https://localhost:8080/"
        },
        "id": "nd4-V0peXix8",
        "outputId": "4136cc62-357d-414a-8d16-40c59ab44ca8"
      },
      "execution_count": 66,
      "outputs": [
        {
          "output_type": "stream",
          "name": "stdout",
          "text": [
            "['/content/drive/MyDrive/Colab_Notebooks/temperature/data/prediction/試験片番号120_temp.csv']\n",
            "Model: \"model\"\n",
            "__________________________________________________________________________________________________\n",
            " Layer (type)                Output Shape                 Param #   Connected to                  \n",
            "==================================================================================================\n",
            " input_1 (InputLayer)        [(None, 288, 384, 1)]        0         []                            \n",
            "                                                                                                  \n",
            " conv2d (Conv2D)             (None, 288, 384, 4)          40        ['input_1[0][0]']             \n",
            "                                                                                                  \n",
            " conv2d_1 (Conv2D)           (None, 288, 384, 4)          148       ['conv2d[0][0]']              \n",
            "                                                                                                  \n",
            " max_pooling2d (MaxPooling2  (None, 144, 192, 4)          0         ['conv2d_1[0][0]']            \n",
            " D)                                                                                               \n",
            "                                                                                                  \n",
            " dropout (Dropout)           (None, 144, 192, 4)          0         ['max_pooling2d[0][0]']       \n",
            "                                                                                                  \n",
            " conv2d_2 (Conv2D)           (None, 144, 192, 4)          148       ['dropout[0][0]']             \n",
            "                                                                                                  \n",
            " conv2d_3 (Conv2D)           (None, 144, 192, 4)          148       ['conv2d_2[0][0]']            \n",
            "                                                                                                  \n",
            " max_pooling2d_1 (MaxPoolin  (None, 72, 96, 4)            0         ['conv2d_3[0][0]']            \n",
            " g2D)                                                                                             \n",
            "                                                                                                  \n",
            " dropout_1 (Dropout)         (None, 72, 96, 4)            0         ['max_pooling2d_1[0][0]']     \n",
            "                                                                                                  \n",
            " conv2d_4 (Conv2D)           (None, 72, 96, 8)            296       ['dropout_1[0][0]']           \n",
            "                                                                                                  \n",
            " conv2d_5 (Conv2D)           (None, 72, 96, 8)            584       ['conv2d_4[0][0]']            \n",
            "                                                                                                  \n",
            " max_pooling2d_2 (MaxPoolin  (None, 36, 48, 8)            0         ['conv2d_5[0][0]']            \n",
            " g2D)                                                                                             \n",
            "                                                                                                  \n",
            " dropout_2 (Dropout)         (None, 36, 48, 8)            0         ['max_pooling2d_2[0][0]']     \n",
            "                                                                                                  \n",
            " flatten (Flatten)           (None, 13824)                0         ['dropout_2[0][0]']           \n",
            "                                                                                                  \n",
            " input_2 (InputLayer)        [(None, 8)]                  0         []                            \n",
            "                                                                                                  \n",
            " concatenate (Concatenate)   (None, 13832)                0         ['flatten[0][0]',             \n",
            "                                                                     'input_2[0][0]']             \n",
            "                                                                                                  \n",
            " dense (Dense)               (None, 20)                   276660    ['concatenate[0][0]']         \n",
            "                                                                                                  \n",
            " dense_1 (Dense)             (None, 20)                   420       ['dense[0][0]']               \n",
            "                                                                                                  \n",
            " dense_2 (Dense)             (None, 10)                   210       ['dense_1[0][0]']             \n",
            "                                                                                                  \n",
            " dense_3 (Dense)             (None, 10)                   110       ['dense_2[0][0]']             \n",
            "                                                                                                  \n",
            "==================================================================================================\n",
            "Total params: 278764 (1.06 MB)\n",
            "Trainable params: 278764 (1.06 MB)\n",
            "Non-trainable params: 0 (0.00 Byte)\n",
            "__________________________________________________________________________________________________\n"
          ]
        }
      ]
    },
    {
      "cell_type": "code",
      "source": [
        "def load_csv(fpath):\n",
        "  # csvから読み込み\n",
        "  temp_array = np.genfromtxt(fpath, delimiter=',', skip_header=1)\n",
        "\n",
        "  # nanを含む列を削除\n",
        "  temp_array = temp_array[:, ~np.isnan(temp_array).any(axis=0)]\n",
        "\n",
        "  return temp_array\n",
        "\n",
        "# テストデータの読み込み\n",
        "print(l_temp[0])\n",
        "temp_array = load_csv(l_temp[0])\n",
        "temp_arrays = temp_array[np.newaxis, :, :]\n",
        "for i in range(1, len(l_temp)):\n",
        "  temp_array = load_csv(l_temp[i])\n",
        "  temp_arrays = np.append(temp_arrays, temp_array[np.newaxis, :, :], axis=0)\n",
        "\n",
        "# cnn用にshapeを変更\n",
        "temp_arrays = temp_arrays[:, :, :, np.newaxis]\n",
        "\n",
        "# laser values\n",
        "lasers = r4temp.iloc[:, 1:9].values"
      ],
      "metadata": {
        "id": "kxzbTa5eXi0C",
        "colab": {
          "base_uri": "https://localhost:8080/"
        },
        "outputId": "949a5cdc-8c87-447f-e94d-2cd9a837e83b"
      },
      "execution_count": 67,
      "outputs": [
        {
          "output_type": "stream",
          "name": "stdout",
          "text": [
            "/content/drive/MyDrive/Colab_Notebooks/temperature/data/prediction/試験片番号120_temp.csv\n"
          ]
        }
      ]
    },
    {
      "cell_type": "code",
      "source": [
        "# 予測の計算\n",
        "\n",
        "\n",
        "y_pred = model.predict([temp_arrays, lasers])\n",
        "\n",
        "print(y_pred)"
      ],
      "metadata": {
        "id": "9MB8iLzcXi2L",
        "colab": {
          "base_uri": "https://localhost:8080/"
        },
        "outputId": "ce810c98-8ae7-4138-93c1-da4a0b5a63ac"
      },
      "execution_count": 68,
      "outputs": [
        {
          "output_type": "stream",
          "name": "stdout",
          "text": [
            "1/1 [==============================] - 0s 114ms/step\n",
            "[[0.00470809 0.         0.         0.         0.         0.\n",
            "  0.         0.         0.03359611 0.        ]]\n"
          ]
        }
      ]
    },
    {
      "cell_type": "code",
      "source": [
        "print(lasers)"
      ],
      "metadata": {
        "id": "PQEBK_XDXi4P",
        "colab": {
          "base_uri": "https://localhost:8080/"
        },
        "outputId": "59fe500b-dadf-4e65-ecc9-94a9d87392ef"
      },
      "execution_count": 69,
      "outputs": [
        {
          "output_type": "stream",
          "name": "stdout",
          "text": [
            "[[0.  2.5 0.  0.  0.  0.  0.  0. ]]\n"
          ]
        }
      ]
    },
    {
      "cell_type": "code",
      "source": [],
      "metadata": {
        "id": "eH97fEWOXi6X"
      },
      "execution_count": 69,
      "outputs": []
    },
    {
      "cell_type": "code",
      "source": [],
      "metadata": {
        "id": "e6D7Ib5iXi87"
      },
      "execution_count": 69,
      "outputs": []
    }
  ]
}