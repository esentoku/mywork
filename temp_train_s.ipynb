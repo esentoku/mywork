{
  "cells": [
    {
      "cell_type": "markdown",
      "metadata": {
        "id": "view-in-github",
        "colab_type": "text"
      },
      "source": [
        "<a href=\"https://colab.research.google.com/github/esentoku/mywork/blob/master/temp_train_s.ipynb\" target=\"_parent\"><img src=\"https://colab.research.google.com/assets/colab-badge.svg\" alt=\"Open In Colab\"/></a>"
      ]
    },
    {
      "cell_type": "code",
      "execution_count": null,
      "metadata": {
        "colab": {
          "base_uri": "https://localhost:8080/"
        },
        "id": "36EkSlSJxPGC",
        "outputId": "9b5bb623-343d-4694-e490-c1a170af2450"
      },
      "outputs": [
        {
          "output_type": "stream",
          "name": "stdout",
          "text": [
            "Mounted at /content/drive\n"
          ]
        }
      ],
      "source": [
        "# google driveをマウント\n",
        "from google.colab import drive\n",
        "drive = drive.mount('/content/drive')"
      ]
    },
    {
      "cell_type": "code",
      "execution_count": null,
      "metadata": {
        "colab": {
          "base_uri": "https://localhost:8080/"
        },
        "id": "dLKOhhsux7yk",
        "outputId": "f76a4ab3-01bc-4180-b877-b03aca49e0b2"
      },
      "outputs": [
        {
          "output_type": "stream",
          "name": "stdout",
          "text": [
            "done\n"
          ]
        }
      ],
      "source": [
        "# 必要ライブラリをインポート\n",
        "import numpy as np\n",
        "import pandas as pd\n",
        "import os\n",
        "import glob\n",
        "import matplotlib.pyplot as plt\n",
        "from sklearn.model_selection import train_test_split\n",
        "\n",
        "import tensorflow as tf\n",
        "import tensorflow_datasets as tfds\n",
        "from keras import losses, layers, Input\n",
        "#from keras.utils import np_utils\n",
        "import h5py\n",
        "from keras.models import Model\n",
        "#from keras.layers.convolutional import MaxPooling2D\n",
        "from tensorflow.keras.layers import MaxPooling2D\n",
        "from keras.layers import Activation, Conv2D, Flatten, Dense,Dropout\n",
        "from sklearn.model_selection import train_test_split\n",
        "from keras.optimizers import SGD, Adadelta, Adagrad, Adam, Adamax, RMSprop, Nadam\n",
        "%matplotlib inline\n",
        "\n",
        "print(\"done\")"
      ]
    },
    {
      "cell_type": "code",
      "execution_count": null,
      "metadata": {
        "id": "vinYK6CIx70j"
      },
      "outputs": [],
      "source": [
        "# データの保存場所の指定\n",
        "maindir = '/content/drive/MyDrive/Colab_Notebooks/temperature'\n",
        "datadir = maindir + '/data'\n",
        "tempdir = datadir + '/temp_csv'\n",
        "\n",
        "# csvファイルへのpathを取得\n",
        "l_temp = glob.glob(tempdir + '/*.csv')\n",
        "\n",
        "# path to r4temperature\n",
        "excel_path = datadir + '/r4temperature.xlsx'\n",
        "r4temp = pd.read_excel(excel_path)"
      ]
    },
    {
      "cell_type": "code",
      "execution_count": null,
      "metadata": {
        "id": "jWSMZAN0x72q",
        "colab": {
          "base_uri": "https://localhost:8080/",
          "height": 250
        },
        "outputId": "4f94bb98-d463-4fb5-f856-8ce2d111dd67"
      },
      "outputs": [
        {
          "output_type": "error",
          "ename": "IndexError",
          "evalue": "ignored",
          "traceback": [
            "\u001b[0;31m---------------------------------------------------------------------------\u001b[0m",
            "\u001b[0;31mIndexError\u001b[0m                                Traceback (most recent call last)",
            "\u001b[0;32m<ipython-input-5-a265ce3ecc39>\u001b[0m in \u001b[0;36m<cell line: 12>\u001b[0;34m()\u001b[0m\n\u001b[1;32m     10\u001b[0m \u001b[0;34m\u001b[0m\u001b[0m\n\u001b[1;32m     11\u001b[0m \u001b[0;31m# load csv file to numpy array\u001b[0m\u001b[0;34m\u001b[0m\u001b[0;34m\u001b[0m\u001b[0m\n\u001b[0;32m---> 12\u001b[0;31m \u001b[0mtemp_array\u001b[0m \u001b[0;34m=\u001b[0m \u001b[0mload_csv\u001b[0m\u001b[0;34m(\u001b[0m\u001b[0ml_temp\u001b[0m\u001b[0;34m[\u001b[0m\u001b[0;36m0\u001b[0m\u001b[0;34m]\u001b[0m\u001b[0;34m)\u001b[0m\u001b[0;34m\u001b[0m\u001b[0;34m\u001b[0m\u001b[0m\n\u001b[0m\u001b[1;32m     13\u001b[0m \u001b[0mtemp_arrays\u001b[0m \u001b[0;34m=\u001b[0m \u001b[0mtemp_array\u001b[0m\u001b[0;34m[\u001b[0m\u001b[0mnp\u001b[0m\u001b[0;34m.\u001b[0m\u001b[0mnewaxis\u001b[0m\u001b[0;34m,\u001b[0m \u001b[0;34m:\u001b[0m\u001b[0;34m,\u001b[0m \u001b[0;34m:\u001b[0m\u001b[0;34m]\u001b[0m\u001b[0;34m\u001b[0m\u001b[0;34m\u001b[0m\u001b[0m\n\u001b[1;32m     14\u001b[0m \u001b[0;32mfor\u001b[0m \u001b[0mi\u001b[0m \u001b[0;32min\u001b[0m \u001b[0mrange\u001b[0m\u001b[0;34m(\u001b[0m\u001b[0;36m1\u001b[0m\u001b[0;34m,\u001b[0m \u001b[0mlen\u001b[0m\u001b[0;34m(\u001b[0m\u001b[0ml_temp\u001b[0m\u001b[0;34m)\u001b[0m\u001b[0;34m)\u001b[0m\u001b[0;34m:\u001b[0m\u001b[0;34m\u001b[0m\u001b[0;34m\u001b[0m\u001b[0m\n",
            "\u001b[0;31mIndexError\u001b[0m: list index out of range"
          ]
        }
      ],
      "source": [
        "def load_csv(fpath):\n",
        "  # csvから読み込み\n",
        "  temp_array = np.genfromtxt(fpath, delimiter=',', skip_header=1)\n",
        "\n",
        "  # nanを含む列を削除\n",
        "  temp_array = temp_array[:, ~np.isnan(temp_array).any(axis=0)]\n",
        "\n",
        "  return temp_array\n",
        "\n",
        "\n",
        "# load csv file to numpy array\n",
        "temp_array = load_csv(l_temp[0])\n",
        "temp_arrays = temp_array[np.newaxis, :, :]\n",
        "for i in range(1, len(l_temp)):\n",
        "  temp_array = load_csv(l_temp[i])\n",
        "  temp_arrays = np.append(temp_arrays, temp_array[np.newaxis, :, :], axis=0)\n",
        "\n",
        "# cnn用にshapeを変更\n",
        "temp_arrays = temp_arrays[:, :, :, np.newaxis]\n"
      ]
    },
    {
      "cell_type": "code",
      "execution_count": null,
      "metadata": {
        "id": "SG0lljKGC47x"
      },
      "outputs": [],
      "source": [
        "# r4tempの入力データを取得\n",
        "lasers = r4temp.iloc[:, 1:9].values\n",
        "\n",
        "# r4tempの出力データを取得\n",
        "heni = r4temp.iloc[:, 14:24].values\n",
        "\n",
        "# trainとtestデータに分割\n",
        "# ここでは90%をトレーニングに利用\n",
        "Xtemp_train, Xtemp_test, Xlasers_train, Xlasers_test, y_train, y_test = train_test_split(temp_arrays, lasers, heni, test_size=0.1)\n",
        "\n",
        "# shape check\n",
        "print(Xtemp_train.shape)\n",
        "print(Xtemp_test.shape)\n",
        "print(Xlasers_train.shape)\n",
        "print(Xlasers_test.shape)\n",
        "print(y_train.shape)\n",
        "print(y_test.shape)"
      ]
    },
    {
      "cell_type": "code",
      "execution_count": null,
      "metadata": {
        "id": "jxdCWkqix7-K"
      },
      "outputs": [],
      "source": [
        "# 試行錯誤した結果、下記モデルで仮設定\n",
        "# 今後利用するデータ数によってはレイヤーを変更した方が良いかも\n",
        "\n",
        "# 画像データの入力\n",
        "inputs1 = Input(shape=(288, 384, 1))\n",
        "x = Conv2D(4, (3, 3), padding='same', activation='relu')(inputs1)\n",
        "x = Conv2D(4, (3, 3), padding='same', activation='relu')(x)\n",
        "x = MaxPooling2D(pool_size=(2, 2))(x)\n",
        "x = Dropout(0.25)(x)\n",
        "\n",
        "x = Conv2D(4, (3, 3), padding='same', activation='relu')(x)\n",
        "x = Conv2D(4, (3, 3), padding='same', activation='relu')(x)\n",
        "x = MaxPooling2D(pool_size=(2, 2))(x)\n",
        "x = Dropout(0.25)(x)\n",
        "\n",
        "x = Conv2D(8, (3, 3), padding='same', activation='relu')(x)\n",
        "x = Conv2D(8, (3, 3), padding='same', activation='relu')(x)\n",
        "x = MaxPooling2D(pool_size=(2, 2))(x)\n",
        "x = Dropout(0.25)(x)\n",
        "\n",
        "# CNNデータをフラット化\n",
        "x = Flatten()(x)\n",
        "\n",
        "# r4tempのlaserデータを入力\n",
        "inputs2 = Input(shape=(8))\n",
        "\n",
        "# 画像とlaserデータをcombine\n",
        "xy = layers.concatenate([x, inputs2], axis=1)\n",
        "\n",
        "# DNN\n",
        "xy = Dense(20, activation='relu')(xy)\n",
        "xy = Dense(20, activation='relu')(xy)\n",
        "xy = Dense(10, activation='relu')(xy)\n",
        "x = Dropout(0.25)(x)\n",
        "\n",
        "# output layer\n",
        "outputs = Dense(10, activation='relu')(xy)\n",
        "\n",
        "model = Model(inputs=[inputs1, inputs2], outputs=outputs)\n",
        "model.summary()"
      ]
    },
    {
      "cell_type": "code",
      "execution_count": null,
      "metadata": {
        "id": "HiAZNG_0_cbK"
      },
      "outputs": [],
      "source": [
        "epochs = 300\n",
        "model.compile(loss=losses.mean_squared_error,\n",
        "              optimizer=\"adam\",\n",
        "              metrics=['mse'])\n",
        "\n",
        "# モデルの訓練\n",
        "history = model.fit(\n",
        "    [Xtemp_train, Xlasers_train],\n",
        "    y_train,\n",
        "    validation_data=([Xtemp_test, Xlasers_test], y_test),\n",
        "    epochs=epochs,\n",
        ")\n",
        "\n",
        "#モデルを保存する\n",
        "model.save('/content/drive/MyDrive/Colab_Notebooks/temperature/model/model.h5')\n",
        "\n"
      ]
    },
    {
      "cell_type": "code",
      "execution_count": null,
      "metadata": {
        "id": "HQ2t0PacU26A"
      },
      "outputs": [],
      "source": [
        "# plot loss and val_loss\n",
        "plt.semilogy(history.history['loss'])\n",
        "plt.semilogy(history.history['val_loss'])\n",
        "plt.title('Model loss')\n",
        "plt.ylabel('loss')\n",
        "plt.xlabel('Epoch')\n",
        "plt.legend(['Train', 'Validation'], loc='upper left')"
      ]
    },
    {
      "cell_type": "code",
      "execution_count": null,
      "metadata": {
        "id": "afVzHFSqx8AS"
      },
      "outputs": [],
      "source": [
        "# predict test data\n",
        "y_pred = model.predict([Xtemp_test, Xlasers_test])\n",
        "print(y_pred)"
      ]
    },
    {
      "cell_type": "code",
      "execution_count": null,
      "metadata": {
        "id": "mp3uM6YnMjR7"
      },
      "outputs": [],
      "source": [
        "# true data\n",
        "y_test"
      ]
    }
  ],
  "metadata": {
    "colab": {
      "provenance": [],
      "gpuType": "T4",
      "include_colab_link": true
    },
    "kernelspec": {
      "display_name": "Python 3",
      "name": "python3"
    },
    "language_info": {
      "name": "python"
    },
    "accelerator": "GPU"
  },
  "nbformat": 4,
  "nbformat_minor": 0
}